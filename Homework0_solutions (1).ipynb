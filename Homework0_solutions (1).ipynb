{
 "cells": [
  {
   "cell_type": "markdown",
   "metadata": {},
   "source": [
    "# STAT610 - Applied Linear Regression"
   ]
  },
  {
   "cell_type": "markdown",
   "metadata": {},
   "source": [
    "## Homework 0 (20 points total)"
   ]
  },
  {
   "cell_type": "markdown",
   "metadata": {},
   "source": [
    "> <u>INSTRUCTIONS:</u> \n",
    "> \n",
    "> This assignment is to ensure proper installation of R and Jupyter Notebooks on your system. Complete the tasks and answer the corresponding questions below. [Hint: The R tutorial videos posted on the Canvas course site may help]\n",
    "> \n",
    "> <ul>\n",
    "  <li>The assignment must be completed within this notebook</li>\n",
    "  <li>Homework must be submitted individually</li>\n",
    "  <li>To receive full credit, include relevant R code/output and answer all questions. Insert code or markdown cells where appropriate.</li>\n",
    "  <li>Upload your assignment to Canvas under Assignments > Homework 0.</li>\n",
    "  <li>Use the following file naming convention:  Lastname_Firstname_HW0 (but put your own name instead).</li>\n",
    "  <li>The assignment must be submitted in .html format (File > Download as HTML)</li>\n",
    "</ul>\n",
    "\n"
   ]
  },
  {
   "cell_type": "markdown",
   "metadata": {},
   "source": [
    "###  Task 1: Loading Data (4 points)\n",
    "\n",
    "- (2 points) Load the \"Homework0_data.txt\" file into R as a dataframe\n",
    "- (2 points) Assign the dataframe to a variable with your last name. For example, if your last name is Smith, then assign the dataframe to smith ($\\texttt{smith <- ...}$)"
   ]
  },
  {
   "cell_type": "code",
   "execution_count": 2,
   "metadata": {},
   "outputs": [],
   "source": [
    "hasenstab <- read.table(\"Homework0_data.txt\", header=TRUE)"
   ]
  },
  {
   "cell_type": "markdown",
   "metadata": {},
   "source": [
    "### Task 2: Preview Data (4 points)\n",
    "\n",
    "- (4 points) View the first six rows of your assigned dataframe (e.g. $\\texttt{head(smith)}$ or $\\texttt{smith[1:6,]}$)"
   ]
  },
  {
   "cell_type": "code",
   "execution_count": 3,
   "metadata": {},
   "outputs": [
    {
     "data": {
      "text/html": [
       "<table>\n",
       "<thead><tr><th scope=col>patient_satisfaction</th><th scope=col>age</th><th scope=col>illness_severity</th><th scope=col>anxiety_level</th></tr></thead>\n",
       "<tbody>\n",
       "\t<tr><td>48 </td><td>50 </td><td>51 </td><td>2.3</td></tr>\n",
       "\t<tr><td>57 </td><td>36 </td><td>46 </td><td>2.3</td></tr>\n",
       "\t<tr><td>66 </td><td>40 </td><td>48 </td><td>2.2</td></tr>\n",
       "\t<tr><td>70 </td><td>41 </td><td>44 </td><td>1.8</td></tr>\n",
       "\t<tr><td>89 </td><td>28 </td><td>43 </td><td>1.8</td></tr>\n",
       "\t<tr><td>36 </td><td>49 </td><td>54 </td><td>2.9</td></tr>\n",
       "</tbody>\n",
       "</table>\n"
      ],
      "text/latex": [
       "\\begin{tabular}{r|llll}\n",
       " patient\\_satisfaction & age & illness\\_severity & anxiety\\_level\\\\\n",
       "\\hline\n",
       "\t 48  & 50  & 51  & 2.3\\\\\n",
       "\t 57  & 36  & 46  & 2.3\\\\\n",
       "\t 66  & 40  & 48  & 2.2\\\\\n",
       "\t 70  & 41  & 44  & 1.8\\\\\n",
       "\t 89  & 28  & 43  & 1.8\\\\\n",
       "\t 36  & 49  & 54  & 2.9\\\\\n",
       "\\end{tabular}\n"
      ],
      "text/markdown": [
       "\n",
       "| patient_satisfaction | age | illness_severity | anxiety_level |\n",
       "|---|---|---|---|\n",
       "| 48  | 50  | 51  | 2.3 |\n",
       "| 57  | 36  | 46  | 2.3 |\n",
       "| 66  | 40  | 48  | 2.2 |\n",
       "| 70  | 41  | 44  | 1.8 |\n",
       "| 89  | 28  | 43  | 1.8 |\n",
       "| 36  | 49  | 54  | 2.9 |\n",
       "\n"
      ],
      "text/plain": [
       "  patient_satisfaction age illness_severity anxiety_level\n",
       "1 48                   50  51               2.3          \n",
       "2 57                   36  46               2.3          \n",
       "3 66                   40  48               2.2          \n",
       "4 70                   41  44               1.8          \n",
       "5 89                   28  43               1.8          \n",
       "6 36                   49  54               2.9          "
      ]
     },
     "metadata": {},
     "output_type": "display_data"
    }
   ],
   "source": [
    "head(hasenstab)"
   ]
  },
  {
   "cell_type": "code",
   "execution_count": 4,
   "metadata": {},
   "outputs": [
    {
     "data": {
      "text/html": [
       "<table>\n",
       "<thead><tr><th scope=col>patient_satisfaction</th><th scope=col>age</th><th scope=col>illness_severity</th><th scope=col>anxiety_level</th></tr></thead>\n",
       "<tbody>\n",
       "\t<tr><td>48 </td><td>50 </td><td>51 </td><td>2.3</td></tr>\n",
       "\t<tr><td>57 </td><td>36 </td><td>46 </td><td>2.3</td></tr>\n",
       "\t<tr><td>66 </td><td>40 </td><td>48 </td><td>2.2</td></tr>\n",
       "\t<tr><td>70 </td><td>41 </td><td>44 </td><td>1.8</td></tr>\n",
       "\t<tr><td>89 </td><td>28 </td><td>43 </td><td>1.8</td></tr>\n",
       "\t<tr><td>36 </td><td>49 </td><td>54 </td><td>2.9</td></tr>\n",
       "</tbody>\n",
       "</table>\n"
      ],
      "text/latex": [
       "\\begin{tabular}{r|llll}\n",
       " patient\\_satisfaction & age & illness\\_severity & anxiety\\_level\\\\\n",
       "\\hline\n",
       "\t 48  & 50  & 51  & 2.3\\\\\n",
       "\t 57  & 36  & 46  & 2.3\\\\\n",
       "\t 66  & 40  & 48  & 2.2\\\\\n",
       "\t 70  & 41  & 44  & 1.8\\\\\n",
       "\t 89  & 28  & 43  & 1.8\\\\\n",
       "\t 36  & 49  & 54  & 2.9\\\\\n",
       "\\end{tabular}\n"
      ],
      "text/markdown": [
       "\n",
       "| patient_satisfaction | age | illness_severity | anxiety_level |\n",
       "|---|---|---|---|\n",
       "| 48  | 50  | 51  | 2.3 |\n",
       "| 57  | 36  | 46  | 2.3 |\n",
       "| 66  | 40  | 48  | 2.2 |\n",
       "| 70  | 41  | 44  | 1.8 |\n",
       "| 89  | 28  | 43  | 1.8 |\n",
       "| 36  | 49  | 54  | 2.9 |\n",
       "\n"
      ],
      "text/plain": [
       "  patient_satisfaction age illness_severity anxiety_level\n",
       "1 48                   50  51               2.3          \n",
       "2 57                   36  46               2.3          \n",
       "3 66                   40  48               2.2          \n",
       "4 70                   41  44               1.8          \n",
       "5 89                   28  43               1.8          \n",
       "6 36                   49  54               2.9          "
      ]
     },
     "metadata": {},
     "output_type": "display_data"
    }
   ],
   "source": [
    "hasenstab[1:6,]"
   ]
  },
  {
   "cell_type": "markdown",
   "metadata": {},
   "source": [
    "### Task 3: Dataframe Dimensions (4 points)\n",
    "\n",
    "- (1 point) How many rows does the dataframe have? (use/show code to find this value)\n",
    "- (1 point) Include a markdown cell below your code and answer the question in a complete sentence"
   ]
  },
  {
   "cell_type": "code",
   "execution_count": 5,
   "metadata": {},
   "outputs": [
    {
     "data": {
      "text/html": [
       "46"
      ],
      "text/latex": [
       "46"
      ],
      "text/markdown": [
       "46"
      ],
      "text/plain": [
       "[1] 46"
      ]
     },
     "metadata": {},
     "output_type": "display_data"
    }
   ],
   "source": [
    "nrow(hasenstab)"
   ]
  },
  {
   "cell_type": "code",
   "execution_count": 6,
   "metadata": {},
   "outputs": [
    {
     "data": {
      "text/html": [
       "<ol class=list-inline>\n",
       "\t<li>46</li>\n",
       "\t<li>4</li>\n",
       "</ol>\n"
      ],
      "text/latex": [
       "\\begin{enumerate*}\n",
       "\\item 46\n",
       "\\item 4\n",
       "\\end{enumerate*}\n"
      ],
      "text/markdown": [
       "1. 46\n",
       "2. 4\n",
       "\n",
       "\n"
      ],
      "text/plain": [
       "[1] 46  4"
      ]
     },
     "metadata": {},
     "output_type": "display_data"
    }
   ],
   "source": [
    "dim(hasenstab)"
   ]
  },
  {
   "cell_type": "markdown",
   "metadata": {},
   "source": [
    "- (1 point) How many columns does your dataframe have? (use/show code to find this value)\n",
    "- (1 point) Include a markdown cell below your code and answer the question in a complete sentence"
   ]
  },
  {
   "cell_type": "code",
   "execution_count": 7,
   "metadata": {},
   "outputs": [
    {
     "data": {
      "text/html": [
       "4"
      ],
      "text/latex": [
       "4"
      ],
      "text/markdown": [
       "4"
      ],
      "text/plain": [
       "[1] 4"
      ]
     },
     "metadata": {},
     "output_type": "display_data"
    }
   ],
   "source": [
    "ncol(hasenstab)"
   ]
  },
  {
   "cell_type": "code",
   "execution_count": 8,
   "metadata": {},
   "outputs": [
    {
     "data": {
      "text/html": [
       "4"
      ],
      "text/latex": [
       "4"
      ],
      "text/markdown": [
       "4"
      ],
      "text/plain": [
       "[1] 4"
      ]
     },
     "metadata": {},
     "output_type": "display_data"
    }
   ],
   "source": [
    "length(hasenstab)"
   ]
  },
  {
   "cell_type": "code",
   "execution_count": 9,
   "metadata": {
    "scrolled": true
   },
   "outputs": [
    {
     "data": {
      "text/html": [
       "<ol class=list-inline>\n",
       "\t<li>46</li>\n",
       "\t<li>4</li>\n",
       "</ol>\n"
      ],
      "text/latex": [
       "\\begin{enumerate*}\n",
       "\\item 46\n",
       "\\item 4\n",
       "\\end{enumerate*}\n"
      ],
      "text/markdown": [
       "1. 46\n",
       "2. 4\n",
       "\n",
       "\n"
      ],
      "text/plain": [
       "[1] 46  4"
      ]
     },
     "metadata": {},
     "output_type": "display_data"
    }
   ],
   "source": [
    "dim(hasenstab)"
   ]
  },
  {
   "cell_type": "code",
   "execution_count": 10,
   "metadata": {},
   "outputs": [
    {
     "name": "stdout",
     "output_type": "stream",
     "text": [
      "'data.frame':\t46 obs. of  4 variables:\n",
      " $ patient_satisfaction: int  48 57 66 70 89 36 46 54 26 77 ...\n",
      " $ age                 : int  50 36 40 41 28 49 42 45 52 29 ...\n",
      " $ illness_severity    : int  51 46 48 44 43 54 50 48 62 50 ...\n",
      " $ anxiety_level       : num  2.3 2.3 2.2 1.8 1.8 2.9 2.2 2.4 2.9 2.1 ...\n"
     ]
    }
   ],
   "source": [
    "str(hasenstab)"
   ]
  },
  {
   "cell_type": "markdown",
   "metadata": {},
   "source": [
    "### Task 4: Plotting Data (4 points)\n",
    "\n",
    "- (2 points) Create a scatterplot with **age** on the x-axis and **anxiety_level** on the y-axis"
   ]
  },
  {
   "cell_type": "code",
   "execution_count": 11,
   "metadata": {
    "scrolled": false
   },
   "outputs": [
    {
     "data": {
      "image/png": "[encoded data removed]",
      "text/plain": [
       "plot without title"
      ]
     },
     "metadata": {},
     "output_type": "display_data"
    }
   ],
   "source": [
    "plot(hasenstab$age, hasenstab$anxiety_level,\n",
    "     xlab = \"Age\", ylab = \"Anxiety Level\")"
   ]
  },
  {
   "cell_type": "markdown",
   "metadata": {},
   "source": [
    "- (2 points) Visually, does there appear to be a relationship between age and anxiety level within the patient population of this dataset? Explain why/why not in a markdown cell below."
   ]
  },
  {
   "cell_type": "markdown",
   "metadata": {},
   "source": [
    "Although subjective, visual assessment indicates a positive association between age and anxiety level, suggesting older patients have more anxiety. The nature of this relationship appears linear, however, two subjects between 35 and 45 years of age with an anxiety level of 1.8 weakens this claim. Alternatively, the relationship might be qudratic or logarithmic. Statistical testing is necessary to determine the proper functional form."
   ]
  },
  {
   "cell_type": "markdown",
   "metadata": {},
   "source": [
    "### Task 5: Simple Linear Regression (4 points)\n",
    "\n",
    "- (1 point) Fit a simple linear regression model with **age** as the predictor variable (x) and **anxiety_level** as the reponse (y)\n",
    "- (1 point) Replot the scatterplot from above and include the regression line (hint: use $\\texttt{abline()}$)"
   ]
  },
  {
   "cell_type": "code",
   "execution_count": 12,
   "metadata": {
    "scrolled": false
   },
   "outputs": [
    {
     "data": {
      "image/png": "[encoded data removed]",
      "text/plain": [
       "plot without title"
      ]
     },
     "metadata": {},
     "output_type": "display_data"
    }
   ],
   "source": [
    "fit <- lm(anxiety_level~age, data=hasenstab)\n",
    "plot(hasenstab$age, hasenstab$anxiety_level,\n",
    "     xlab = \"Age\", ylab = \"Anxiety Level\")\n",
    "abline(fit)"
   ]
  },
  {
   "cell_type": "markdown",
   "metadata": {},
   "source": [
    "- (2 points) Does the regression line fit the data well? Why/Why not? Explain in a markdown cell below"
   ]
  },
  {
   "cell_type": "markdown",
   "metadata": {},
   "source": [
    "Upon visual inspection, the regression line appears to appropriately model the functional relationship between age and anxiety level, but the variability of anxiety levels around the regression line is quite large. It is difficult to determine if the observed relationship is attributed to noise or is a true reflection of the relationship between age and anxiety level."
   ]
  },
  {
   "cell_type": "markdown",
   "metadata": {},
   "source": [
    "### Extra credit (1 point) \n",
    "\n",
    "Using Latex syntax, write the quadratic formula as shown here https://en.wikipedia.org/wiki/Quadratic_formula in a markdown cell below"
   ]
  },
  {
   "cell_type": "markdown",
   "metadata": {},
   "source": [
    "$\\begin{align*}\n",
    "x &= \\frac{-b \\pm \\sqrt{b^2 - 4ac}}{2a} \\\\\n",
    "\\end{align*}$"
   ]
  }
 ],
 "metadata": {
  "kernelspec": {
   "display_name": "R",
   "language": "R",
   "name": "ir"
  },
  "language_info": {
   "codemirror_mode": "r",
   "file_extension": ".r",
   "mimetype": "text/x-r-source",
   "name": "R",
   "pygments_lexer": "r",
   "version": "3.6.1"
  }
 },
 "nbformat": 4,
 "nbformat_minor": 4
}
